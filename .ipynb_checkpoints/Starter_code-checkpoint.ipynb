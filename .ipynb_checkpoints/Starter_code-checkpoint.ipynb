{
 "cells": [
  {
   "cell_type": "code",
   "execution_count": 7,
   "id": "1b75d8e8-0557-480a-a1ba-c240ef59532b",
   "metadata": {},
   "outputs": [],
   "source": [
    "#Imports\n",
    "\n",
    "import os\n",
    "import requests\n",
    "import datetime as dt\n",
    "import pandas as pd\n",
    "from dotenv import load_dotenv\n",
    "import alpaca_trade_api as tradeapi\n",
    "from MCForecastTools import MCSimulation\n",
    "import json\n",
    "import numpy as np\n",
    "import yfinance as yf\n",
    "from pandas_datareader import data as pdr\n",
    "%matplotlib inline"
   ]
  },
  {
   "cell_type": "code",
   "execution_count": 8,
   "id": "c8687fc0-829f-448c-b9be-90a1f2b72040",
   "metadata": {},
   "outputs": [
    {
     "data": {
      "text/plain": [
       "True"
      ]
     },
     "execution_count": 8,
     "metadata": {},
     "output_type": "execute_result"
    }
   ],
   "source": [
    "# Load .env enviroment variables\n",
    "load_dotenv()"
   ]
  },
  {
   "cell_type": "code",
   "execution_count": 13,
   "id": "673f020f-6d98-4a47-823b-5ac9ad14c421",
   "metadata": {},
   "outputs": [
    {
     "name": "stdout",
     "output_type": "stream",
     "text": [
      "[*********************100%***********************]  1 of 1 completed\n"
     ]
    },
    {
     "data": {
      "text/html": [
       "<div>\n",
       "<style scoped>\n",
       "    .dataframe tbody tr th:only-of-type {\n",
       "        vertical-align: middle;\n",
       "    }\n",
       "\n",
       "    .dataframe tbody tr th {\n",
       "        vertical-align: top;\n",
       "    }\n",
       "\n",
       "    .dataframe thead th {\n",
       "        text-align: right;\n",
       "    }\n",
       "</style>\n",
       "<table border=\"1\" class=\"dataframe\">\n",
       "  <thead>\n",
       "    <tr style=\"text-align: right;\">\n",
       "      <th></th>\n",
       "      <th>Close</th>\n",
       "    </tr>\n",
       "    <tr>\n",
       "      <th>Date</th>\n",
       "      <th></th>\n",
       "    </tr>\n",
       "  </thead>\n",
       "  <tbody>\n",
       "    <tr>\n",
       "      <th>2016-01-01</th>\n",
       "      <td>434.334015</td>\n",
       "    </tr>\n",
       "    <tr>\n",
       "      <th>2016-01-02</th>\n",
       "      <td>433.437988</td>\n",
       "    </tr>\n",
       "    <tr>\n",
       "      <th>2016-01-03</th>\n",
       "      <td>430.010986</td>\n",
       "    </tr>\n",
       "    <tr>\n",
       "      <th>2016-01-04</th>\n",
       "      <td>433.091003</td>\n",
       "    </tr>\n",
       "    <tr>\n",
       "      <th>2016-01-05</th>\n",
       "      <td>431.959991</td>\n",
       "    </tr>\n",
       "    <tr>\n",
       "      <th>...</th>\n",
       "      <td>...</td>\n",
       "    </tr>\n",
       "    <tr>\n",
       "      <th>2022-01-01</th>\n",
       "      <td>47686.812500</td>\n",
       "    </tr>\n",
       "    <tr>\n",
       "      <th>2022-01-02</th>\n",
       "      <td>47345.218750</td>\n",
       "    </tr>\n",
       "    <tr>\n",
       "      <th>2022-01-03</th>\n",
       "      <td>46458.117188</td>\n",
       "    </tr>\n",
       "    <tr>\n",
       "      <th>2022-01-04</th>\n",
       "      <td>45897.574219</td>\n",
       "    </tr>\n",
       "    <tr>\n",
       "      <th>2022-01-05</th>\n",
       "      <td>43569.003906</td>\n",
       "    </tr>\n",
       "  </tbody>\n",
       "</table>\n",
       "<p>2197 rows × 1 columns</p>\n",
       "</div>"
      ],
      "text/plain": [
       "                   Close\n",
       "Date                    \n",
       "2016-01-01    434.334015\n",
       "2016-01-02    433.437988\n",
       "2016-01-03    430.010986\n",
       "2016-01-04    433.091003\n",
       "2016-01-05    431.959991\n",
       "...                  ...\n",
       "2022-01-01  47686.812500\n",
       "2022-01-02  47345.218750\n",
       "2022-01-03  46458.117188\n",
       "2022-01-04  45897.574219\n",
       "2022-01-05  43569.003906\n",
       "\n",
       "[2197 rows x 1 columns]"
      ]
     },
     "execution_count": 13,
     "metadata": {},
     "output_type": "execute_result"
    }
   ],
   "source": [
    "#Download Datasets using yfinance\n",
    "#gld = pdr.get_data_yahoo('GLD')\n",
    "#gld = yf.download('gld', '2016-01-01', '2020-05-31')\n",
    "#gld = yf.download('gld', '2000-01-01', '2020-05-31')\n",
    "gld = yf.download('BTC-USD', '2016-01-01', '2022-01-06')\n",
    "#gld.drop(columns = [\"Open\",\"High\",\"Low\",\"Adj Close\",\"Volume\"], inplace=True)\n",
    "day = np.arange(1, len(gld) + 1)\n",
    "gld['day'] = day\n",
    "gld.drop(columns=['Adj Close', 'Volume'], inplace = True)\n",
    "gld = gld[['Close']]\n",
    "gld.head(-1)"
   ]
  },
  {
   "cell_type": "code",
   "execution_count": 26,
   "id": "b4cbb70f-5755-4d3c-9e01-1b2b72f7af62",
   "metadata": {},
   "outputs": [
    {
     "name": "stdout",
     "output_type": "stream",
     "text": [
      "Symbols           ^GSPC          ^DJI   ^TNX        BND\n",
      "Date                                                   \n",
      "2010-01-04  1132.989990  10583.959961  3.841  78.680000\n",
      "2010-01-05  1136.520020  10572.019531  3.755  78.910004\n",
      "2010-01-06  1137.140015  10573.679688  3.808  78.879997\n",
      "2010-01-07  1141.689941  10606.860352  3.822  78.820000\n",
      "2010-01-08  1144.979980  10618.190430  3.808  78.900002\n",
      "...                 ...           ...    ...        ...\n",
      "2022-01-03  4796.560059  36585.058594  1.628  84.180000\n",
      "2022-01-04  4793.540039  36799.648438  1.668  84.169998\n",
      "2022-01-05  4700.580078  36407.109375  1.705  83.879997\n",
      "2022-01-06  4696.049805  36236.468750  1.733  83.790001\n",
      "2022-01-07  4677.029785  36231.660156  1.771  83.559998\n",
      "\n",
      "[3026 rows x 4 columns]\n"
     ]
    }
   ],
   "source": [
    "#Import data using pandas_datareader\n",
    "\n",
    "#Import Traditional Asset Data\n",
    "\n",
    "def getData(assets, start, end):\n",
    "    assetData = pdr.get_data_yahoo(assets, start=startDate, end=endDate)\n",
    "    assetData = assetData['Close']\n",
    "    return assetData\n",
    "\n",
    "assetList = ['^GSPC', '^DJI', '^TNX', 'BND']\n",
    "\n",
    "endDate = dt.datetime.now()\n",
    "startDate = '2010-01-01'\n",
    "\n",
    "print(getData(assets=assetList, start=startDate, end=endDate))"
   ]
  },
  {
   "cell_type": "code",
   "execution_count": null,
   "id": "1f213f74-6040-41d4-8080-bfa2a1f94b89",
   "metadata": {},
   "outputs": [],
   "source": []
  }
 ],
 "metadata": {
  "kernelspec": {
   "display_name": "Python 3 (ipykernel)",
   "language": "python",
   "name": "python3"
  },
  "language_info": {
   "codemirror_mode": {
    "name": "ipython",
    "version": 3
   },
   "file_extension": ".py",
   "mimetype": "text/x-python",
   "name": "python",
   "nbconvert_exporter": "python",
   "pygments_lexer": "ipython3",
   "version": "3.7.11"
  }
 },
 "nbformat": 4,
 "nbformat_minor": 5
}
